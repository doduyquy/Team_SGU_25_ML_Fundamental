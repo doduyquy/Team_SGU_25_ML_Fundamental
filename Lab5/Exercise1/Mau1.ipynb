{
 "cells": [
  {
   "cell_type": "markdown",
   "id": "4f5933b3",
   "metadata": {},
   "source": [
    "# Thực hiện thống kê mô tả trên tập dữu liệu về phân loại chất lượng rượu đỏ.\n"
   ]
  },
  {
   "cell_type": "markdown",
   "id": "82962b16",
   "metadata": {},
   "source": [
    "## 1. Import thư viện và nạp dữ liệu vào notebook.\n"
   ]
  },
  {
   "cell_type": "code",
   "execution_count": 15,
   "id": "6f902107",
   "metadata": {},
   "outputs": [
    {
     "data": {
      "text/html": [
       "<div>\n",
       "<style scoped>\n",
       "    .dataframe tbody tr th:only-of-type {\n",
       "        vertical-align: middle;\n",
       "    }\n",
       "\n",
       "    .dataframe tbody tr th {\n",
       "        vertical-align: top;\n",
       "    }\n",
       "\n",
       "    .dataframe thead th {\n",
       "        text-align: right;\n",
       "    }\n",
       "</style>\n",
       "<table border=\"1\" class=\"dataframe\">\n",
       "  <thead>\n",
       "    <tr style=\"text-align: right;\">\n",
       "      <th></th>\n",
       "      <th>fixed acidity</th>\n",
       "      <th>volatile acidity</th>\n",
       "      <th>citric acid</th>\n",
       "      <th>residual sugar</th>\n",
       "      <th>chlorides</th>\n",
       "      <th>free sulfur dioxide</th>\n",
       "      <th>total sulfur dioxide</th>\n",
       "      <th>density</th>\n",
       "      <th>pH</th>\n",
       "      <th>sulphates</th>\n",
       "      <th>alcohol</th>\n",
       "      <th>quality</th>\n",
       "    </tr>\n",
       "  </thead>\n",
       "  <tbody>\n",
       "    <tr>\n",
       "      <th>0</th>\n",
       "      <td>7.4</td>\n",
       "      <td>0.70</td>\n",
       "      <td>0.00</td>\n",
       "      <td>1.9</td>\n",
       "      <td>0.076</td>\n",
       "      <td>11.0</td>\n",
       "      <td>34.0</td>\n",
       "      <td>0.9978</td>\n",
       "      <td>3.51</td>\n",
       "      <td>0.56</td>\n",
       "      <td>9.4</td>\n",
       "      <td>5</td>\n",
       "    </tr>\n",
       "    <tr>\n",
       "      <th>1</th>\n",
       "      <td>7.8</td>\n",
       "      <td>0.88</td>\n",
       "      <td>0.00</td>\n",
       "      <td>2.6</td>\n",
       "      <td>0.098</td>\n",
       "      <td>25.0</td>\n",
       "      <td>67.0</td>\n",
       "      <td>0.9968</td>\n",
       "      <td>3.20</td>\n",
       "      <td>0.68</td>\n",
       "      <td>9.8</td>\n",
       "      <td>5</td>\n",
       "    </tr>\n",
       "    <tr>\n",
       "      <th>2</th>\n",
       "      <td>7.8</td>\n",
       "      <td>0.76</td>\n",
       "      <td>0.04</td>\n",
       "      <td>2.3</td>\n",
       "      <td>0.092</td>\n",
       "      <td>15.0</td>\n",
       "      <td>54.0</td>\n",
       "      <td>0.9970</td>\n",
       "      <td>3.26</td>\n",
       "      <td>0.65</td>\n",
       "      <td>9.8</td>\n",
       "      <td>5</td>\n",
       "    </tr>\n",
       "    <tr>\n",
       "      <th>3</th>\n",
       "      <td>11.2</td>\n",
       "      <td>0.28</td>\n",
       "      <td>0.56</td>\n",
       "      <td>1.9</td>\n",
       "      <td>0.075</td>\n",
       "      <td>17.0</td>\n",
       "      <td>60.0</td>\n",
       "      <td>0.9980</td>\n",
       "      <td>3.16</td>\n",
       "      <td>0.58</td>\n",
       "      <td>9.8</td>\n",
       "      <td>6</td>\n",
       "    </tr>\n",
       "    <tr>\n",
       "      <th>4</th>\n",
       "      <td>7.4</td>\n",
       "      <td>0.70</td>\n",
       "      <td>0.00</td>\n",
       "      <td>1.9</td>\n",
       "      <td>0.076</td>\n",
       "      <td>11.0</td>\n",
       "      <td>34.0</td>\n",
       "      <td>0.9978</td>\n",
       "      <td>3.51</td>\n",
       "      <td>0.56</td>\n",
       "      <td>9.4</td>\n",
       "      <td>5</td>\n",
       "    </tr>\n",
       "  </tbody>\n",
       "</table>\n",
       "</div>"
      ],
      "text/plain": [
       "   fixed acidity  volatile acidity  citric acid  residual sugar  chlorides  \\\n",
       "0            7.4              0.70         0.00             1.9      0.076   \n",
       "1            7.8              0.88         0.00             2.6      0.098   \n",
       "2            7.8              0.76         0.04             2.3      0.092   \n",
       "3           11.2              0.28         0.56             1.9      0.075   \n",
       "4            7.4              0.70         0.00             1.9      0.076   \n",
       "\n",
       "   free sulfur dioxide  total sulfur dioxide  density    pH  sulphates  \\\n",
       "0                 11.0                  34.0   0.9978  3.51       0.56   \n",
       "1                 25.0                  67.0   0.9968  3.20       0.68   \n",
       "2                 15.0                  54.0   0.9970  3.26       0.65   \n",
       "3                 17.0                  60.0   0.9980  3.16       0.58   \n",
       "4                 11.0                  34.0   0.9978  3.51       0.56   \n",
       "\n",
       "   alcohol  quality  \n",
       "0      9.4        5  \n",
       "1      9.8        5  \n",
       "2      9.8        5  \n",
       "3      9.8        6  \n",
       "4      9.4        5  "
      ]
     },
     "metadata": {},
     "output_type": "display_data"
    },
    {
     "name": "stdout",
     "output_type": "stream",
     "text": [
      "fixed acidity           float64\n",
      "volatile acidity        float64\n",
      "citric acid             float64\n",
      "residual sugar          float64\n",
      "chlorides               float64\n",
      "free sulfur dioxide     float64\n",
      "total sulfur dioxide    float64\n",
      "density                 float64\n",
      "pH                      float64\n",
      "sulphates               float64\n",
      "alcohol                 float64\n",
      "quality                   int64\n",
      "dtype: object\n",
      "(1599, 12)\n"
     ]
    }
   ],
   "source": [
    "import numpy as np\n",
    "import pandas as pd\n",
    "from IPython import display\n",
    "from scipy import stats\n",
    "df_dataset=pd.read_csv('winequality-red.csv')\n",
    "display.display(df_dataset.head())\n",
    "print(df_dataset.dtypes)\n",
    "print(df_dataset.shape)"
   ]
  },
  {
   "cell_type": "markdown",
   "id": "c7a54a2f",
   "metadata": {},
   "source": [
    "**Nhận xét:**\n",
    "+ Dữ liệu phân loại rượu đỏ gồm có 12 thuộc tính từ dữ liệu winequality-red. Trong đó, dựa trên 11 thuộc tính ban đầu để quyết định phân loại chất lượng rượu đỏ như thế nào, tốt hay kém chất lượng. \n",
    "+ Dữ liệu gồm các kiểu số\n",
    "+ Có 1599 dữ liệu dòng, tương đương với bộ dữ liệu với 1599 input."
   ]
  },
  {
   "cell_type": "markdown",
   "id": "e20a67c6",
   "metadata": {},
   "source": [
    "## 2. Tính giá trị trung bình của 'quality'."
   ]
  },
  {
   "cell_type": "code",
   "execution_count": 16,
   "id": "333f6150",
   "metadata": {},
   "outputs": [
    {
     "name": "stdout",
     "output_type": "stream",
     "text": [
      "5.6360225140712945\n"
     ]
    }
   ],
   "source": [
    "df_mean=np.mean(df_dataset['quality'])\n",
    "print(df_mean)"
   ]
  },
  {
   "cell_type": "markdown",
   "id": "d236957f",
   "metadata": {},
   "source": [
    "## 3. Tính median"
   ]
  },
  {
   "cell_type": "code",
   "execution_count": 17,
   "id": "91aec61c",
   "metadata": {},
   "outputs": [
    {
     "name": "stdout",
     "output_type": "stream",
     "text": [
      "6.0\n"
     ]
    }
   ],
   "source": [
    "df_median=np.median(df_dataset['quality'])\n",
    "print(df_median)"
   ]
  },
  {
   "cell_type": "markdown",
   "id": "55b5a2fe",
   "metadata": {},
   "source": [
    "## 4. Tính mode"
   ]
  },
  {
   "cell_type": "code",
   "execution_count": 21,
   "id": "6874d0c2",
   "metadata": {},
   "outputs": [
    {
     "name": "stdout",
     "output_type": "stream",
     "text": [
      "ModeResult(mode=np.int64(5), count=np.int64(681))\n"
     ]
    }
   ],
   "source": [
    "df_mode = stats.mode(df_dataset[\"quality\"])\n",
    "print(df_mode)"
   ]
  },
  {
   "cell_type": "markdown",
   "id": "6d9e7f8a",
   "metadata": {},
   "source": [
    "## 5. Tính variance"
   ]
  },
  {
   "cell_type": "code",
   "execution_count": 22,
   "id": "467c08eb",
   "metadata": {},
   "outputs": [
    {
     "name": "stdout",
     "output_type": "stream",
     "text": [
      "0.6517605398308234\n"
     ]
    }
   ],
   "source": [
    "df_variance=np.var(df_dataset['quality'])\n",
    "print(df_variance)"
   ]
  },
  {
   "cell_type": "markdown",
   "id": "92462f50",
   "metadata": {},
   "source": [
    "## 6. Tính MAX,MIN"
   ]
  },
  {
   "cell_type": "code",
   "execution_count": 24,
   "id": "3dc924c2",
   "metadata": {},
   "outputs": [
    {
     "name": "stdout",
     "output_type": "stream",
     "text": [
      "Max: 8\n",
      "Min; 3\n"
     ]
    }
   ],
   "source": [
    "df_max=np.max(df_dataset['quality'])\n",
    "df_min=np.min(df_dataset['quality'])\n",
    "print(f'Max: {df_max}')\n",
    "print(f'Min; {df_min}')"
   ]
  },
  {
   "cell_type": "markdown",
   "id": "ba098702",
   "metadata": {},
   "source": [
    "## 7. Tính phân vị thứ 60\n"
   ]
  },
  {
   "cell_type": "code",
   "execution_count": 26,
   "id": "4d8794cd",
   "metadata": {},
   "outputs": [
    {
     "name": "stdout",
     "output_type": "stream",
     "text": [
      "6.0\n"
     ]
    }
   ],
   "source": [
    "df_percentile=np.percentile(df_dataset['quality'],60)\n",
    "print(df_percentile)"
   ]
  },
  {
   "cell_type": "markdown",
   "id": "45009c0f",
   "metadata": {},
   "source": [
    "## 8. Tính tứ phân vị thứ ba (Q3, 75th percentile)"
   ]
  },
  {
   "cell_type": "code",
   "execution_count": 27,
   "id": "90e6f344",
   "metadata": {},
   "outputs": [
    {
     "name": "stdout",
     "output_type": "stream",
     "text": [
      "6.0\n"
     ]
    }
   ],
   "source": [
    "data_quartile = np.quantile(df_dataset['quality'], 0.75)\n",
    "print(data_quartile)"
   ]
  },
  {
   "cell_type": "markdown",
   "id": "214b351b",
   "metadata": {},
   "source": [
    "## 9. Tính khoảng tứ phân vị (IQR)"
   ]
  },
  {
   "cell_type": "code",
   "execution_count": 29,
   "id": "81b34f2d",
   "metadata": {},
   "outputs": [
    {
     "name": "stdout",
     "output_type": "stream",
     "text": [
      "1.0\n"
     ]
    }
   ],
   "source": [
    "data_IQR = stats.iqr(df_dataset[\"quality\"])\n",
    "print(data_IQR)"
   ]
  }
 ],
 "metadata": {
  "kernelspec": {
   "display_name": "base",
   "language": "python",
   "name": "python3"
  },
  "language_info": {
   "codemirror_mode": {
    "name": "ipython",
    "version": 3
   },
   "file_extension": ".py",
   "mimetype": "text/x-python",
   "name": "python",
   "nbconvert_exporter": "python",
   "pygments_lexer": "ipython3",
   "version": "3.13.5"
  }
 },
 "nbformat": 4,
 "nbformat_minor": 5
}
